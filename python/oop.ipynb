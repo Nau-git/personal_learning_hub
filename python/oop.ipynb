{
 "cells": [
  {
   "cell_type": "markdown",
   "metadata": {},
   "source": [
    "# Fundamentals\n",
    "\n",
    "a `Class` is a blueprint for creating objects. It defines a set of attributes and methods that the objects of that class will have. An object is an instance of a class, representing a specific entry with its own set of data.\n",
    "\n",
    "`Attributes` are variables that belong to a class or object, representing its properties or state. `Methods` are functions defined within a class that can perform actions or computations using the object's data.\n",
    "\n",
    "Constructor (__init__) method is a special method in Python classes that is automatically called when an object is created. It initialzes the object's attributes and performs any necessary setup."
   ]
  },
  {
   "cell_type": "markdown",
   "metadata": {},
   "source": [
    "## Example 1"
   ]
  },
  {
   "cell_type": "code",
   "execution_count": 1,
   "metadata": {},
   "outputs": [],
   "source": [
    "class Person:\n",
    "    def __init__(self, name, age):\n",
    "        self.name = name\n",
    "        self.age = age\n",
    "        print(f\"A new person named {self.name} is born!\")\n",
    "    \n",
    "    def introduce(self):\n",
    "        return f\"Hello, my name is {self.name} and I am {self.age} years old.\""
   ]
  },
  {
   "cell_type": "code",
   "execution_count": 2,
   "metadata": {},
   "outputs": [
    {
     "name": "stdout",
     "output_type": "stream",
     "text": [
      "A new person named John is born!\n"
     ]
    }
   ],
   "source": [
    "person1 = Person(\"John\", 36)"
   ]
  },
  {
   "cell_type": "code",
   "execution_count": 3,
   "metadata": {},
   "outputs": [
    {
     "name": "stdout",
     "output_type": "stream",
     "text": [
      "Hello, my name is John and I am 36 years old.\n"
     ]
    }
   ],
   "source": [
    "print(person1.introduce())"
   ]
  },
  {
   "cell_type": "markdown",
   "metadata": {},
   "source": [
    "## Example 2"
   ]
  },
  {
   "cell_type": "code",
   "execution_count": 4,
   "metadata": {},
   "outputs": [],
   "source": [
    "class Cat:\n",
    "    def __init__(self, name):\n",
    "        self.name = name\n",
    "    \n",
    "    def meow(self):\n",
    "        return f\"{self.name} says meow!\""
   ]
  },
  {
   "cell_type": "code",
   "execution_count": 5,
   "metadata": {},
   "outputs": [],
   "source": [
    "mycat = Cat(\"Tom\")"
   ]
  },
  {
   "cell_type": "code",
   "execution_count": 6,
   "metadata": {},
   "outputs": [
    {
     "name": "stdout",
     "output_type": "stream",
     "text": [
      "Tom says meow!\n"
     ]
    }
   ],
   "source": [
    "print(mycat.meow())"
   ]
  },
  {
   "cell_type": "markdown",
   "metadata": {},
   "source": [
    "## Example 3"
   ]
  },
  {
   "cell_type": "code",
   "execution_count": 7,
   "metadata": {},
   "outputs": [],
   "source": [
    "class BankAccount:\n",
    "    def __init__(self, account_number, balance=0):\n",
    "        self.account_number = account_number\n",
    "        self.balance = balance\n",
    "        self.transactions = []\n",
    "    \n",
    "    def deposit(self, amount):\n",
    "        if amount > 0:\n",
    "            self.balance += amount\n",
    "            self.transactions.append(f\"Deposit: +${amount}\")\n",
    "            return f\"Deposited ${amount}. New balance: ${self.balance}\"\n",
    "        else:\n",
    "            return \"Invalid deposit amount. Deposit must be a positive number.\"\n",
    "    \n",
    "    def withdraw(self, amount):\n",
    "        if 0 < amount <= self.balance:\n",
    "            self.balance -= amount\n",
    "            self.transactions.append(f\"Withdrawal: -${amount}\")\n",
    "            return f\"Withdrew ${amount}. New balance: ${self.balance}\"\n",
    "        return \"Insufficient funds or invalid withdrawal amount.\"\n",
    "    \n",
    "    def get_balance(self):\n",
    "        return f\"Current balance: ${self.balance}\"\n",
    "    \n",
    "    def print_transactions(self):\n",
    "        return \"\\n\".join(self.transactions)"
   ]
  },
  {
   "cell_type": "code",
   "execution_count": 8,
   "metadata": {},
   "outputs": [],
   "source": [
    "account = BankAccount(\"account_1\")"
   ]
  },
  {
   "cell_type": "code",
   "execution_count": 9,
   "metadata": {},
   "outputs": [
    {
     "name": "stdout",
     "output_type": "stream",
     "text": [
      "Deposited $1000. New balance: $1000\n"
     ]
    }
   ],
   "source": [
    "print(account.deposit(1000))"
   ]
  },
  {
   "cell_type": "code",
   "execution_count": 10,
   "metadata": {},
   "outputs": [
    {
     "data": {
      "text/plain": [
       "'Withdrew $100. New balance: $900'"
      ]
     },
     "execution_count": 10,
     "metadata": {},
     "output_type": "execute_result"
    }
   ],
   "source": [
    "account.withdraw(100)"
   ]
  },
  {
   "cell_type": "code",
   "execution_count": 11,
   "metadata": {},
   "outputs": [
    {
     "data": {
      "text/plain": [
       "'Withdrew $300. New balance: $600'"
      ]
     },
     "execution_count": 11,
     "metadata": {},
     "output_type": "execute_result"
    }
   ],
   "source": [
    "account.withdraw(300)"
   ]
  },
  {
   "cell_type": "code",
   "execution_count": 12,
   "metadata": {},
   "outputs": [
    {
     "name": "stdout",
     "output_type": "stream",
     "text": [
      "Deposit: +$1000\n",
      "Withdrawal: -$100\n",
      "Withdrawal: -$300\n"
     ]
    }
   ],
   "source": [
    "print(account.print_transactions())"
   ]
  },
  {
   "cell_type": "code",
   "execution_count": 13,
   "metadata": {},
   "outputs": [
    {
     "data": {
      "text/plain": [
       "'Insufficient funds or invalid withdrawal amount.'"
      ]
     },
     "execution_count": 13,
     "metadata": {},
     "output_type": "execute_result"
    }
   ],
   "source": [
    "account.withdraw(1000)"
   ]
  },
  {
   "cell_type": "markdown",
   "metadata": {},
   "source": [
    "# Example 4"
   ]
  },
  {
   "cell_type": "code",
   "execution_count": 14,
   "metadata": {},
   "outputs": [],
   "source": [
    "class Book:\n",
    "    def __init__(self, title, author, isbn):\n",
    "        self.title = title\n",
    "        self.author = author\n",
    "        self.isbn = isbn\n",
    "        self.is_borrowed = False\n",
    "\n",
    "    def __str__(self):\n",
    "        return f\"{self.title} by {self.author} (ISBN: {self.isbn})\"\n",
    "\n",
    "class Member:\n",
    "    def __init__(self, name, member_id):\n",
    "        self.name = name\n",
    "        self.member_id = member_id\n",
    "        self.borrowed_books = []\n",
    "    \n",
    "    def __str__(self):\n",
    "        return f\"{self.name} (ID: {self.member_id})\"\n",
    "    \n",
    "class Library:\n",
    "    def __init__(self):\n",
    "        self.books = {}\n",
    "        self.members = {}\n",
    "\n",
    "    def add_book(self, book):\n",
    "            self.books[book.isbn] = book\n",
    "    \n",
    "    def add_member(self, member):\n",
    "        self.members[member.member_id] = member\n",
    "\n",
    "    def borrow_book(self, isbn, member_id):\n",
    "        if isbn not in self.books or member_id not in self.members:\n",
    "            return \"Book or member not found\"\n",
    "        \n",
    "        book = self.books[isbn]\n",
    "        member = self.members[member_id]\n",
    "\n",
    "        if book.is_borrowed:\n",
    "            return \"Book is already borrowed\"\n",
    "        \n",
    "        book.is_borrowed = True\n",
    "        member.borrowed_books.append(book)\n",
    "        return f\"{member.name} has borrowed '{book.title}'\"\n",
    "    \n",
    "    def return_book(self, isbn, member_id):\n",
    "        if isbn not in self.books or member_id not in self.members:\n",
    "            return \"Book or member not found\"\n",
    "\n",
    "        book = self.books[isbn]\n",
    "        member = self.members[member_id]\n",
    "\n",
    "        if book not in member.borrowed_books:\n",
    "            return \"This book was not borrowed by this member\"\n",
    "        \n",
    "        book.is_borrowed = False\n",
    "        member.borrowed_books.remove(book)\n",
    "        return f\"{member.name} has returned '{book.title}'\"\n",
    "    \n",
    "    def list_available_books(self):\n",
    "        available_books = [book for book in self.books.values() if not book.is_borrowed]\n",
    "        return \"\\n\".join(str(book) for book in available_books)"
   ]
  },
  {
   "cell_type": "code",
   "execution_count": 15,
   "metadata": {},
   "outputs": [],
   "source": [
    "library = Library()"
   ]
  },
  {
   "cell_type": "code",
   "execution_count": 16,
   "metadata": {},
   "outputs": [],
   "source": [
    "book1 = Book(\"Bumi\", \"Tere Liye\", \"24458\")\n",
    "book2 = Book(\"Harry Potter\", \"J.K. Rowling\", \"24433\")\n",
    "library.add_book(book1)\n",
    "library.add_book(book2)"
   ]
  },
  {
   "cell_type": "code",
   "execution_count": 17,
   "metadata": {},
   "outputs": [],
   "source": [
    "member1 = Member(\"John Doe\", \"M001\")\n",
    "library.add_member(member1)"
   ]
  },
  {
   "cell_type": "code",
   "execution_count": 18,
   "metadata": {},
   "outputs": [
    {
     "name": "stdout",
     "output_type": "stream",
     "text": [
      "John Doe has borrowed 'Bumi'\n"
     ]
    }
   ],
   "source": [
    "print(library.borrow_book(\"24458\", \"M001\"))"
   ]
  },
  {
   "cell_type": "code",
   "execution_count": 19,
   "metadata": {},
   "outputs": [
    {
     "name": "stdout",
     "output_type": "stream",
     "text": [
      "Harry Potter by J.K. Rowling (ISBN: 24433)\n"
     ]
    }
   ],
   "source": [
    "print(library.list_available_books())"
   ]
  },
  {
   "cell_type": "code",
   "execution_count": 20,
   "metadata": {},
   "outputs": [
    {
     "name": "stdout",
     "output_type": "stream",
     "text": [
      "John Doe has returned 'Bumi'\n",
      "\n",
      "Bumi by Tere Liye (ISBN: 24458)\n",
      "Harry Potter by J.K. Rowling (ISBN: 24433)\n"
     ]
    }
   ],
   "source": [
    "print(library.return_book(\"24458\", \"M001\"))\n",
    "print(\"\")\n",
    "print(library.list_available_books())"
   ]
  },
  {
   "cell_type": "markdown",
   "metadata": {},
   "source": [
    "# Example 5 (hard)"
   ]
  },
  {
   "cell_type": "code",
   "execution_count": 1,
   "metadata": {},
   "outputs": [],
   "source": [
    "from abc import ABC, ABCMeta, abstractmethod\n",
    "import random\n",
    "\n",
    "class Environmental:\n",
    "    def __init__(self, climate):\n",
    "        self.climate = None\n",
    "\n",
    "    def affect_health(self, organism):\n",
    "        if self.climate == 'harsh':\n",
    "            organism.health -= 10\n",
    "        elif self.climate == 'moderate':\n",
    "            organism.health += 5\n",
    "\n",
    "class Reproducing:\n",
    "    def reproduce(self):\n",
    "        return type(self)()\n",
    "    \n",
    "class OrganismMeta(type):\n",
    "    def __new__(cls, name, bases, attrs):\n",
    "        attrs['species_count'] = 0\n",
    "        return super().__new__(cls, name, bases, attrs)\n",
    "\n",
    "    def __call__(cls, *args, **kwargs):\n",
    "        cls.species_count += 1\n",
    "        instance = super().__call__(*args, **kwargs)\n",
    "        return instance\n",
    "\n",
    "class CombinedMeta(ABCMeta, OrganismMeta):\n",
    "    pass\n",
    "\n",
    "class LivingOrganism(ABC, metaclass=CombinedMeta):\n",
    "    @abstractmethod\n",
    "    def live(self):\n",
    "        pass\n",
    "\n",
    "class Organism(LivingOrganism, Environmental, Reproducing):\n",
    "    def __init__(self, name, lifespan):\n",
    "        Environmental.__init__(self, \"moderate\")\n",
    "        self._name = name\n",
    "        self._lifespan = lifespan\n",
    "        self._age = 0\n",
    "        self._health = 100\n",
    "\n",
    "class Organism(LivingOrganism, Environmental, Reproducing, metaclass=OrganismMeta):\n",
    "    def __init__(self, name, lifespan):\n",
    "        super().__init__(\"moderate\")\n",
    "        self._name = name\n",
    "        self._lifespan = lifespan\n",
    "        self._age = 0\n",
    "        self._health = 100\n",
    "\n",
    "    @property\n",
    "    def name(self):\n",
    "        return self._name\n",
    "\n",
    "    @property\n",
    "    def health(self):\n",
    "        return self._health\n",
    "\n",
    "    @health.setter\n",
    "    def health(self, value):\n",
    "        self._health = max(0, min(value, 100))\n",
    "\n",
    "    def live(self):\n",
    "        self._age += 1\n",
    "        self.affect_health(self)\n",
    "        if self._age > self._lifespan or self.health <= 0:\n",
    "            return False\n",
    "        return True\n",
    "\n",
    "    def __str__(self):\n",
    "        return f\"{self.name} (Age: {self._age}, Health: {self.health})\"\n",
    "\n",
    "class Plant(Organism):\n",
    "    def __init__(self, name, lifespan):\n",
    "        super().__init__(name, lifespan)\n",
    "        self.height = 0\n",
    "\n",
    "    def grow(self):\n",
    "        self.height += random.uniform(0, 0.5)\n",
    "\n",
    "    def live(self):\n",
    "        if super().live():\n",
    "            self.grow()\n",
    "            return True\n",
    "        return False\n",
    "\n",
    "class Animal(Organism):\n",
    "    def __init__(self, name, lifespan, speed):\n",
    "        super().__init__(name, lifespan)\n",
    "        self.speed = speed\n",
    "\n",
    "    def move(self):\n",
    "        return f\"{self.name} moved {self.speed} units\"\n",
    "\n",
    "class Herbivore(Animal):\n",
    "    def eat(self, plant):\n",
    "        if isinstance(plant, Plant):\n",
    "            nutrition = min(10, plant.height)\n",
    "            plant.height -= nutrition\n",
    "            self.health += nutrition\n",
    "            return f\"{self.name} ate {nutrition} units of {plant.name}\"\n",
    "        return f\"{self.name} can't eat that!\"\n",
    "\n",
    "class Carnivore(Animal):\n",
    "    def hunt(self, prey):\n",
    "        if isinstance(prey, Herbivore):\n",
    "            if self.speed > prey.speed:\n",
    "                self.health += 20\n",
    "                prey.health -= 20\n",
    "                return f\"{self.name} successfully hunted {prey.name}\"\n",
    "            else:\n",
    "                return f\"{self.name} failed to catch {prey.name}\"\n",
    "        return f\"{self.name} can't hunt that!\"\n",
    "\n",
    "def track_population(cls):\n",
    "    original_init = cls.__init__\n",
    "    def new_init(self, *args, **kwargs):\n",
    "        original_init(self, *args, **kwargs)\n",
    "        print(f\"New {cls.__name__} born! Total: {cls.species_count}\")\n",
    "    cls.__init__ = new_init\n",
    "    return cls\n",
    "\n",
    "@track_population\n",
    "class Grass(Plant):\n",
    "    def __init__(self):\n",
    "        super().__init__(\"Grass\", 5)\n",
    "\n",
    "@track_population\n",
    "class Deer(Herbivore):\n",
    "    def __init__(self):\n",
    "        super().__init__(\"Deer\", 10, 7)\n",
    "\n",
    "@track_population\n",
    "class Wolf(Carnivore):\n",
    "    def __init__(self):\n",
    "        super().__init__(\"Wolf\", 8, 10)\n",
    "\n",
    "class Ecosystem:\n",
    "    def __init__(self):\n",
    "        self.organisms = []\n",
    "\n",
    "    def add_organism(self, organism):\n",
    "        self.organisms.append(organism)\n",
    "\n",
    "    def simulate(self, days):\n",
    "        for day in range(1, days + 1):\n",
    "            print(f\"\\nDay {day}:\")\n",
    "            for organism in self.organisms[:]:\n",
    "                if organism.live():\n",
    "                    if isinstance(organism, Herbivore):\n",
    "                        plant = next((o for o in self.organisms if isinstance(o, Plant)), None)\n",
    "                        if plant:\n",
    "                            print(organism.eat(plant))\n",
    "                    elif isinstance(organism, Carnivore):\n",
    "                        prey = next((o for o in self.organisms if isinstance(o, Herbivore)), None)\n",
    "                        if prey:\n",
    "                            print(organism.hunt(prey))\n",
    "                    print(f\"{organism} is alive.\")\n",
    "                else:\n",
    "                    print(f\"{organism} has died.\")\n",
    "                    self.organisms.remove(organism)\n",
    "            \n",
    "            # Reproduction\n",
    "            new_organisms = []\n",
    "            for organism in self.organisms:\n",
    "                if random.random() < 0.1:  # 10% chance of reproduction\n",
    "                    new_organisms.append(organism.reproduce())\n",
    "            self.organisms.extend(new_organisms)\n",
    "\n",
    "        print(\"\\nFinal ecosystem state:\")\n",
    "        for organism in self.organisms:\n",
    "            print(organism)    \n"
   ]
  },
  {
   "cell_type": "code",
   "execution_count": 2,
   "metadata": {},
   "outputs": [
    {
     "name": "stdout",
     "output_type": "stream",
     "text": [
      "New Grass born! Total: 1\n",
      "New Grass born! Total: 2\n",
      "New Deer born! Total: 1\n",
      "New Deer born! Total: 2\n",
      "New Deer born! Total: 3\n",
      "New Deer born! Total: 4\n",
      "New Wolf born! Total: 1\n",
      "New Wolf born! Total: 2\n",
      "\n",
      "Day 1:\n",
      "Grass (Age: 1, Health: 100) is alive.\n",
      "Grass (Age: 1, Health: 100) is alive.\n",
      "Deer ate 0.36546956461825814 units of Grass\n",
      "Deer (Age: 1, Health: 100) is alive.\n",
      "Deer ate 0.0 units of Grass\n",
      "Deer (Age: 1, Health: 100.0) is alive.\n",
      "Deer ate 0.0 units of Grass\n",
      "Deer (Age: 1, Health: 100.0) is alive.\n",
      "Deer ate 0.0 units of Grass\n",
      "Deer (Age: 1, Health: 100.0) is alive.\n",
      "Wolf successfully hunted Deer\n",
      "Wolf (Age: 1, Health: 100) is alive.\n",
      "Wolf successfully hunted Deer\n",
      "Wolf (Age: 1, Health: 100) is alive.\n",
      "New Deer born! Total: 5\n",
      "\n",
      "Day 2:\n",
      "Grass (Age: 2, Health: 100) is alive.\n",
      "Grass (Age: 2, Health: 100) is alive.\n",
      "Deer ate 0.2502862205280066 units of Grass\n",
      "Deer (Age: 2, Health: 60.250286220528004) is alive.\n",
      "Deer ate 0.0 units of Grass\n",
      "Deer (Age: 2, Health: 100.0) is alive.\n",
      "Deer ate 0.0 units of Grass\n",
      "Deer (Age: 2, Health: 100.0) is alive.\n",
      "Deer ate 0.0 units of Grass\n",
      "Deer (Age: 2, Health: 100.0) is alive.\n",
      "Wolf successfully hunted Deer\n",
      "Wolf (Age: 2, Health: 100) is alive.\n",
      "Wolf successfully hunted Deer\n",
      "Wolf (Age: 2, Health: 100) is alive.\n",
      "Deer ate 0.0 units of Grass\n",
      "Deer (Age: 1, Health: 100.0) is alive.\n",
      "New Deer born! Total: 6\n",
      "\n",
      "Day 3:\n",
      "Grass (Age: 3, Health: 100) is alive.\n",
      "Grass (Age: 3, Health: 100) is alive.\n",
      "Deer ate 0.32695411772313626 units of Grass\n",
      "Deer (Age: 3, Health: 20.57724033825114) is alive.\n",
      "Deer ate 0.0 units of Grass\n",
      "Deer (Age: 3, Health: 100.0) is alive.\n",
      "Deer ate 0.0 units of Grass\n",
      "Deer (Age: 3, Health: 100.0) is alive.\n",
      "Deer ate 0.0 units of Grass\n",
      "Deer (Age: 3, Health: 100.0) is alive.\n",
      "Wolf successfully hunted Deer\n",
      "Wolf (Age: 3, Health: 100) is alive.\n",
      "Wolf successfully hunted Deer\n",
      "Wolf (Age: 3, Health: 100) is alive.\n",
      "Deer ate 0.0 units of Grass\n",
      "Deer (Age: 2, Health: 100.0) is alive.\n",
      "Deer ate 0.0 units of Grass\n",
      "Deer (Age: 1, Health: 100.0) is alive.\n",
      "\n",
      "Day 4:\n",
      "Grass (Age: 4, Health: 100) is alive.\n",
      "Grass (Age: 4, Health: 100) is alive.\n",
      "Deer (Age: 4, Health: 0) has died.\n",
      "Deer ate 0.10431428081647287 units of Grass\n",
      "Deer (Age: 4, Health: 100) is alive.\n",
      "Deer ate 0.0 units of Grass\n",
      "Deer (Age: 4, Health: 100.0) is alive.\n",
      "Deer ate 0.0 units of Grass\n",
      "Deer (Age: 4, Health: 100.0) is alive.\n",
      "Wolf successfully hunted Deer\n",
      "Wolf (Age: 4, Health: 100) is alive.\n",
      "Wolf successfully hunted Deer\n",
      "Wolf (Age: 4, Health: 100) is alive.\n",
      "Deer ate 0.0 units of Grass\n",
      "Deer (Age: 3, Health: 100.0) is alive.\n",
      "Deer ate 0.0 units of Grass\n",
      "Deer (Age: 2, Health: 100.0) is alive.\n",
      "New Grass born! Total: 3\n",
      "\n",
      "Day 5:\n",
      "Grass (Age: 5, Health: 100) is alive.\n",
      "Grass (Age: 5, Health: 100) is alive.\n",
      "Deer ate 0.2684546409521343 units of Grass\n",
      "Deer (Age: 5, Health: 60.268454640952136) is alive.\n",
      "Deer ate 0.0 units of Grass\n",
      "Deer (Age: 5, Health: 100.0) is alive.\n",
      "Deer ate 0.0 units of Grass\n",
      "Deer (Age: 5, Health: 100.0) is alive.\n",
      "Wolf successfully hunted Deer\n",
      "Wolf (Age: 5, Health: 100) is alive.\n",
      "Wolf successfully hunted Deer\n",
      "Wolf (Age: 5, Health: 100) is alive.\n",
      "Deer ate 0.0 units of Grass\n",
      "Deer (Age: 4, Health: 100.0) is alive.\n",
      "Deer ate 0.0 units of Grass\n",
      "Deer (Age: 3, Health: 100.0) is alive.\n",
      "Grass (Age: 1, Health: 100) is alive.\n",
      "New Grass born! Total: 4\n",
      "New Deer born! Total: 7\n",
      "\n",
      "Final ecosystem state:\n",
      "Grass (Age: 5, Health: 100)\n",
      "Grass (Age: 5, Health: 100)\n",
      "Deer (Age: 5, Health: 20.268454640952136)\n",
      "Deer (Age: 5, Health: 100.0)\n",
      "Deer (Age: 5, Health: 100.0)\n",
      "Wolf (Age: 5, Health: 100)\n",
      "Wolf (Age: 5, Health: 100)\n",
      "Deer (Age: 4, Health: 100.0)\n",
      "Deer (Age: 3, Health: 100.0)\n",
      "Grass (Age: 1, Health: 100)\n",
      "Grass (Age: 0, Health: 100)\n",
      "Deer (Age: 0, Health: 100)\n"
     ]
    }
   ],
   "source": [
    "# Create an ecosystem\n",
    "ecosystem = Ecosystem()\n",
    "\n",
    "# Add organisms\n",
    "ecosystem.add_organism(Grass())\n",
    "ecosystem.add_organism(Grass())\n",
    "ecosystem.add_organism(Deer())\n",
    "ecosystem.add_organism(Deer())\n",
    "ecosystem.add_organism(Deer())\n",
    "ecosystem.add_organism(Deer())\n",
    "ecosystem.add_organism(Wolf())\n",
    "ecosystem.add_organism(Wolf())\n",
    "\n",
    "# Run simulation for 5 days\n",
    "ecosystem.simulate(5)"
   ]
  },
  {
   "cell_type": "markdown",
   "metadata": {},
   "source": [
    "## Task 1: Create a simple Car class\n",
    "Create a class called Car with the following specifications:\n",
    "\n",
    "It should have attributes for brand, model, and year.\n",
    "It should have a method called describe() that returns a string describing the car (e.g., \"A 2022 Tesla Model 3\").\n",
    "It should have a method called age() that returns the age of the car based on the current year (assume the current year is 2024).\n",
    "\n",
    "After creating the class, create two car objects and demonstrate the use of both methods for each car.\n",
    "\n",
    "---\n",
    "## Task 2: Create a basic Bank Account system\n",
    "Create a BankAccount class with the following specifications:\n",
    "\n",
    "It should have attributes for account holder name and balance.\n",
    "It should have methods for deposit and withdrawal.\n",
    "The withdrawal method should not allow the balance to go below zero.\n",
    "It should have a method to display the current balance.\n",
    "\n",
    "After creating the class, create a bank account object, perform some deposits and withdrawals, and display the balance after each operation."
   ]
  },
  {
   "cell_type": "code",
   "execution_count": 3,
   "metadata": {},
   "outputs": [],
   "source": [
    "# Task 1\n",
    "class Car:\n",
    "    def __init__(self, brand, model, year):\n",
    "        self.brand = brand\n",
    "        self.model = model\n",
    "        self.year = year\n",
    "    \n",
    "    def describe(self):\n",
    "        return f\"A {self.year} {self.brand} {self.model}\"\n",
    "    \n",
    "    def age(self):\n",
    "        return 2024 - self.year"
   ]
  },
  {
   "cell_type": "code",
   "execution_count": 4,
   "metadata": {},
   "outputs": [],
   "source": [
    "car1 = Car('Honda', 'Civic', 2023)\n",
    "car2 = Car('Toyota', 'Corolla', 2020)"
   ]
  },
  {
   "cell_type": "code",
   "execution_count": 8,
   "metadata": {},
   "outputs": [
    {
     "name": "stdout",
     "output_type": "stream",
     "text": [
      "A 2023 Honda Civic\n",
      "1\n"
     ]
    }
   ],
   "source": [
    "print(car1.describe())\n",
    "print(car1.age())"
   ]
  },
  {
   "cell_type": "code",
   "execution_count": 9,
   "metadata": {},
   "outputs": [
    {
     "name": "stdout",
     "output_type": "stream",
     "text": [
      "A 2020 Toyota Corolla\n",
      "4\n"
     ]
    }
   ],
   "source": [
    "print(car2.describe())\n",
    "print(car2.age())"
   ]
  },
  {
   "cell_type": "code",
   "execution_count": 10,
   "metadata": {},
   "outputs": [],
   "source": [
    "# Task 2\n",
    "\n",
    "class BankAccount:\n",
    "    def __init__(self, balance, holder):\n",
    "        self.balance = balance\n",
    "        self.holder = holder\n",
    "    \n",
    "    def deposit(self, amount):\n",
    "        self.balance += amount\n",
    "        return self.balance\n",
    "    \n",
    "    def withdraw(self, amount):\n",
    "        if amount > self.balance:\n",
    "            return \"Insufficient funds\"\n",
    "        else:\n",
    "            self.balance -= amount\n",
    "            return f\"Withdrew ${amount} from active balance\"\n",
    "    \n",
    "    def get_balance(self):\n",
    "        return f\"Current balance is ${self.balance}\""
   ]
  },
  {
   "cell_type": "code",
   "execution_count": 11,
   "metadata": {},
   "outputs": [
    {
     "data": {
      "text/plain": [
       "'Current balance is $20100'"
      ]
     },
     "execution_count": 11,
     "metadata": {},
     "output_type": "execute_result"
    }
   ],
   "source": [
    "balance1 = BankAccount(10000, \"Hojn Ode\")\n",
    "balance1.deposit(10100)\n",
    "balance1.get_balance()"
   ]
  },
  {
   "cell_type": "code",
   "execution_count": 12,
   "metadata": {},
   "outputs": [
    {
     "data": {
      "text/plain": [
       "'Current balance is $10100'"
      ]
     },
     "execution_count": 12,
     "metadata": {},
     "output_type": "execute_result"
    }
   ],
   "source": [
    "balance1.withdraw(10000)\n",
    "balance1.get_balance()"
   ]
  },
  {
   "cell_type": "code",
   "execution_count": 14,
   "metadata": {},
   "outputs": [
    {
     "data": {
      "text/plain": [
       "'Insufficient funds'"
      ]
     },
     "execution_count": 14,
     "metadata": {},
     "output_type": "execute_result"
    }
   ],
   "source": [
    "balance1.withdraw(100000)"
   ]
  },
  {
   "cell_type": "code",
   "execution_count": null,
   "metadata": {},
   "outputs": [],
   "source": []
  }
 ],
 "metadata": {
  "kernelspec": {
   "display_name": "base",
   "language": "python",
   "name": "python3"
  },
  "language_info": {
   "codemirror_mode": {
    "name": "ipython",
    "version": 3
   },
   "file_extension": ".py",
   "mimetype": "text/x-python",
   "name": "python",
   "nbconvert_exporter": "python",
   "pygments_lexer": "ipython3",
   "version": "3.10.9"
  }
 },
 "nbformat": 4,
 "nbformat_minor": 2
}
