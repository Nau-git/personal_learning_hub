{
 "cells": [
  {
   "cell_type": "markdown",
   "metadata": {},
   "source": [
    "# Fundamentals\n",
    "\n",
    "a `Class` is a blueprint for creating objects. It defines a set of attributes and methods that the objects of that class will have. An object is an instance of a class, representing a specific entry with its own set of data.\n",
    "\n",
    "`Attributes` are variables that belong to a class or object, representing its properties or state. `Methods` are functions defined within a class that can perform actions or computations using the object's data.\n",
    "\n",
    "Constructor (__init__) method is a special method in Python classes that is automatically called when an object is created. It initialzes the object's attributes and performs any necessary setup."
   ]
  },
  {
   "cell_type": "markdown",
   "metadata": {},
   "source": [
    "## Example 1"
   ]
  },
  {
   "cell_type": "code",
   "execution_count": 1,
   "metadata": {},
   "outputs": [],
   "source": [
    "class Person:\n",
    "    def __init__(self, name, age):\n",
    "        self.name = name\n",
    "        self.age = age\n",
    "        print(f\"A new person named {self.name} is born!\")\n",
    "    \n",
    "    def introduce(self):\n",
    "        return f\"Hello, my name is {self.name} and I am {self.age} years old.\""
   ]
  },
  {
   "cell_type": "code",
   "execution_count": 2,
   "metadata": {},
   "outputs": [
    {
     "name": "stdout",
     "output_type": "stream",
     "text": [
      "A new person named John is born!\n"
     ]
    }
   ],
   "source": [
    "person1 = Person(\"John\", 36)"
   ]
  },
  {
   "cell_type": "code",
   "execution_count": 3,
   "metadata": {},
   "outputs": [
    {
     "name": "stdout",
     "output_type": "stream",
     "text": [
      "Hello, my name is John and I am 36 years old.\n"
     ]
    }
   ],
   "source": [
    "print(person1.introduce())"
   ]
  },
  {
   "cell_type": "markdown",
   "metadata": {},
   "source": [
    "## Example 2"
   ]
  },
  {
   "cell_type": "code",
   "execution_count": 4,
   "metadata": {},
   "outputs": [],
   "source": [
    "class Cat:\n",
    "    def __init__(self, name):\n",
    "        self.name = name\n",
    "    \n",
    "    def meow(self):\n",
    "        return f\"{self.name} says meow!\""
   ]
  },
  {
   "cell_type": "code",
   "execution_count": 5,
   "metadata": {},
   "outputs": [],
   "source": [
    "mycat = Cat(\"Tom\")"
   ]
  },
  {
   "cell_type": "code",
   "execution_count": 6,
   "metadata": {},
   "outputs": [
    {
     "name": "stdout",
     "output_type": "stream",
     "text": [
      "Tom says meow!\n"
     ]
    }
   ],
   "source": [
    "print(mycat.meow())"
   ]
  },
  {
   "cell_type": "markdown",
   "metadata": {},
   "source": [
    "## Example 3"
   ]
  },
  {
   "cell_type": "code",
   "execution_count": 7,
   "metadata": {},
   "outputs": [],
   "source": [
    "class BankAccount:\n",
    "    def __init__(self, account_number, balance=0):\n",
    "        self.account_number = account_number\n",
    "        self.balance = balance\n",
    "        self.transactions = []\n",
    "    \n",
    "    def deposit(self, amount):\n",
    "        if amount > 0:\n",
    "            self.balance += amount\n",
    "            self.transactions.append(f\"Deposit: +${amount}\")\n",
    "            return f\"Deposited ${amount}. New balance: ${self.balance}\"\n",
    "        else:\n",
    "            return \"Invalid deposit amount. Deposit must be a positive number.\"\n",
    "    \n",
    "    def withdraw(self, amount):\n",
    "        if 0 < amount <= self.balance:\n",
    "            self.balance -= amount\n",
    "            self.transactions.append(f\"Withdrawal: -${amount}\")\n",
    "            return f\"Withdrew ${amount}. New balance: ${self.balance}\"\n",
    "        return \"Insufficient funds or invalid withdrawal amount.\"\n",
    "    \n",
    "    def get_balance(self):\n",
    "        return f\"Current balance: ${self.balance}\"\n",
    "    \n",
    "    def print_transactions(self):\n",
    "        return \"\\n\".join(self.transactions)"
   ]
  },
  {
   "cell_type": "code",
   "execution_count": 8,
   "metadata": {},
   "outputs": [],
   "source": [
    "account = BankAccount(\"account_1\")"
   ]
  },
  {
   "cell_type": "code",
   "execution_count": 9,
   "metadata": {},
   "outputs": [
    {
     "name": "stdout",
     "output_type": "stream",
     "text": [
      "Deposited $1000. New balance: $1000\n"
     ]
    }
   ],
   "source": [
    "print(account.deposit(1000))"
   ]
  },
  {
   "cell_type": "code",
   "execution_count": 10,
   "metadata": {},
   "outputs": [
    {
     "data": {
      "text/plain": [
       "'Withdrew $100. New balance: $900'"
      ]
     },
     "execution_count": 10,
     "metadata": {},
     "output_type": "execute_result"
    }
   ],
   "source": [
    "account.withdraw(100)"
   ]
  },
  {
   "cell_type": "code",
   "execution_count": 11,
   "metadata": {},
   "outputs": [
    {
     "data": {
      "text/plain": [
       "'Withdrew $300. New balance: $600'"
      ]
     },
     "execution_count": 11,
     "metadata": {},
     "output_type": "execute_result"
    }
   ],
   "source": [
    "account.withdraw(300)"
   ]
  },
  {
   "cell_type": "code",
   "execution_count": 12,
   "metadata": {},
   "outputs": [
    {
     "name": "stdout",
     "output_type": "stream",
     "text": [
      "Deposit: +$1000\n",
      "Withdrawal: -$100\n",
      "Withdrawal: -$300\n"
     ]
    }
   ],
   "source": [
    "print(account.print_transactions())"
   ]
  },
  {
   "cell_type": "code",
   "execution_count": 13,
   "metadata": {},
   "outputs": [
    {
     "data": {
      "text/plain": [
       "'Insufficient funds or invalid withdrawal amount.'"
      ]
     },
     "execution_count": 13,
     "metadata": {},
     "output_type": "execute_result"
    }
   ],
   "source": [
    "account.withdraw(1000)"
   ]
  },
  {
   "cell_type": "markdown",
   "metadata": {},
   "source": [
    "# Example 4"
   ]
  },
  {
   "cell_type": "code",
   "execution_count": 14,
   "metadata": {},
   "outputs": [],
   "source": [
    "class Book:\n",
    "    def __init__(self, title, author, isbn):\n",
    "        self.title = title\n",
    "        self.author = author\n",
    "        self.isbn = isbn\n",
    "        self.is_borrowed = False\n",
    "\n",
    "    def __str__(self):\n",
    "        return f\"{self.title} by {self.author} (ISBN: {self.isbn})\"\n",
    "\n",
    "class Member:\n",
    "    def __init__(self, name, member_id):\n",
    "        self.name = name\n",
    "        self.member_id = member_id\n",
    "        self.borrowed_books = []\n",
    "    \n",
    "    def __str__(self):\n",
    "        return f\"{self.name} (ID: {self.member_id})\"\n",
    "    \n",
    "class Library:\n",
    "    def __init__(self):\n",
    "        self.books = {}\n",
    "        self.members = {}\n",
    "\n",
    "    def add_book(self, book):\n",
    "            self.books[book.isbn] = book\n",
    "    \n",
    "    def add_member(self, member):\n",
    "        self.members[member.member_id] = member\n",
    "\n",
    "    def borrow_book(self, isbn, member_id):\n",
    "        if isbn not in self.books or member_id not in self.members:\n",
    "            return \"Book or member not found\"\n",
    "        \n",
    "        book = self.books[isbn]\n",
    "        member = self.members[member_id]\n",
    "\n",
    "        if book.is_borrowed:\n",
    "            return \"Book is already borrowed\"\n",
    "        \n",
    "        book.is_borrowed = True\n",
    "        member.borrowed_books.append(book)\n",
    "        return f\"{member.name} has borrowed '{book.title}'\"\n",
    "    \n",
    "    def return_book(self, isbn, member_id):\n",
    "        if isbn not in self.books or member_id not in self.members:\n",
    "            return \"Book or member not found\"\n",
    "\n",
    "        book = self.books[isbn]\n",
    "        member = self.members[member_id]\n",
    "\n",
    "        if book not in member.borrowed_books:\n",
    "            return \"This book was not borrowed by this member\"\n",
    "        \n",
    "        book.is_borrowed = False\n",
    "        member.borrowed_books.remove(book)\n",
    "        return f\"{member.name} has returned '{book.title}'\"\n",
    "    \n",
    "    def list_available_books(self):\n",
    "        available_books = [book for book in self.books.values() if not book.is_borrowed]\n",
    "        return \"\\n\".join(str(book) for book in available_books)"
   ]
  },
  {
   "cell_type": "code",
   "execution_count": 15,
   "metadata": {},
   "outputs": [],
   "source": [
    "library = Library()"
   ]
  },
  {
   "cell_type": "code",
   "execution_count": 16,
   "metadata": {},
   "outputs": [],
   "source": [
    "book1 = Book(\"Bumi\", \"Tere Liye\", \"24458\")\n",
    "book2 = Book(\"Harry Potter\", \"J.K. Rowling\", \"24433\")\n",
    "library.add_book(book1)\n",
    "library.add_book(book2)"
   ]
  },
  {
   "cell_type": "code",
   "execution_count": 17,
   "metadata": {},
   "outputs": [],
   "source": [
    "member1 = Member(\"John Doe\", \"M001\")\n",
    "library.add_member(member1)"
   ]
  },
  {
   "cell_type": "code",
   "execution_count": 18,
   "metadata": {},
   "outputs": [
    {
     "name": "stdout",
     "output_type": "stream",
     "text": [
      "John Doe has borrowed 'Bumi'\n"
     ]
    }
   ],
   "source": [
    "print(library.borrow_book(\"24458\", \"M001\"))"
   ]
  },
  {
   "cell_type": "code",
   "execution_count": 19,
   "metadata": {},
   "outputs": [
    {
     "name": "stdout",
     "output_type": "stream",
     "text": [
      "Harry Potter by J.K. Rowling (ISBN: 24433)\n"
     ]
    }
   ],
   "source": [
    "print(library.list_available_books())"
   ]
  },
  {
   "cell_type": "code",
   "execution_count": 20,
   "metadata": {},
   "outputs": [
    {
     "name": "stdout",
     "output_type": "stream",
     "text": [
      "John Doe has returned 'Bumi'\n",
      "\n",
      "Bumi by Tere Liye (ISBN: 24458)\n",
      "Harry Potter by J.K. Rowling (ISBN: 24433)\n"
     ]
    }
   ],
   "source": [
    "print(library.return_book(\"24458\", \"M001\"))\n",
    "print(\"\")\n",
    "print(library.list_available_books())"
   ]
  },
  {
   "cell_type": "code",
   "execution_count": null,
   "metadata": {},
   "outputs": [],
   "source": []
  }
 ],
 "metadata": {
  "kernelspec": {
   "display_name": "base",
   "language": "python",
   "name": "python3"
  },
  "language_info": {
   "codemirror_mode": {
    "name": "ipython",
    "version": 3
   },
   "file_extension": ".py",
   "mimetype": "text/x-python",
   "name": "python",
   "nbconvert_exporter": "python",
   "pygments_lexer": "ipython3",
   "version": "3.10.9"
  }
 },
 "nbformat": 4,
 "nbformat_minor": 2
}
