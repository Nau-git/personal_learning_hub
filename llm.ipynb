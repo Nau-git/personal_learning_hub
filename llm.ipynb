{
 "cells": [
  {
   "cell_type": "markdown",
   "metadata": {},
   "source": [
    "# Various ways to generate LLM responses using Hugging Face Serverless Inference API"
   ]
  },
  {
   "cell_type": "markdown",
   "metadata": {},
   "source": [
    "## HF Inference Client"
   ]
  },
  {
   "cell_type": "code",
   "execution_count": null,
   "metadata": {},
   "outputs": [
    {
     "name": "stdout",
     "output_type": "stream",
     "text": [
      "Why did the swan go to the party?\n",
      "\n",
      "Because he heard it was a \"holy\" good time and he wanted to \"plevel\" up his social status! (get it? level, like swans are known for paddling, and level up is a gaming term)"
     ]
    }
   ],
   "source": [
    "from huggingface_hub import InferenceClient\n",
    "import os\n",
    "import dotenv\n",
    "dotenv.load_dotenv()\n",
    "\n",
    "client = InferenceClient(api_key=os.environ.get(\"HF_TOKEN\"))\n",
    "\n",
    "for message in client.chat_completion(\n",
    "\tmodel=\"meta-llama/Llama-3.2-3B-Instruct\",\n",
    "\tmessages=[{\"role\": \"user\", \"content\": \"tell a joke about a swan\"}],\n",
    "\tmax_tokens=1024,\n",
    "    temperature=1.0,\n",
    "\tstream=True,\n",
    "):\n",
    "    print(message.choices[0].delta.content, end=\"\")"
   ]
  },
  {
   "cell_type": "code",
   "execution_count": 3,
   "metadata": {},
   "outputs": [
    {
     "name": "stdout",
     "output_type": "stream",
     "text": [
      "Why did the ant go to the doctor?\n",
      "\n",
      "Because it had a little \"ant-i-body\"!\n",
      "\n",
      "(get it?)"
     ]
    }
   ],
   "source": [
    "for message in client.chat_completion(\n",
    "\tmodel=\"meta-llama/Llama-3.2-3B-Instruct\",\n",
    "\tmessages=[{\"role\": \"user\", \"content\": \"tell a joke about an ant\"}],\n",
    "\tmax_tokens=1024,\n",
    "    temperature=1.0,\n",
    "\tstream=True,\n",
    "):\n",
    "    print(message.choices[0].delta.content, end=\"\")"
   ]
  },
  {
   "cell_type": "markdown",
   "metadata": {},
   "source": [
    "## Langchain HF"
   ]
  },
  {
   "cell_type": "code",
   "execution_count": null,
   "metadata": {},
   "outputs": [
    {
     "name": "stdout",
     "output_type": "stream",
     "text": [
      "Why did the duck go to the doctor?\n",
      "\n",
      "Because it had a fowl cough.\n"
     ]
    }
   ],
   "source": [
    "from langchain_huggingface import HuggingFaceEndpoint, ChatHuggingFace\n",
    "from langchain_core.prompts import ChatPromptTemplate\n",
    "from langchain_core.output_parsers import StrOutputParser\n",
    "import os\n",
    "import dotenv\n",
    "dotenv.load_dotenv()\n",
    "\n",
    "parser = StrOutputParser()\n",
    "\n",
    "repo_id = \"meta-llama/Llama-3.2-3B-Instruct\"\n",
    "\n",
    "model = HuggingFaceEndpoint(\n",
    "    repo_id=repo_id,\n",
    "    temperature=1.0,\n",
    "    huggingfacehub_api_token=os.environ.get(\"HF_TOKEN\"),\n",
    "    # task=\"text-generation\",\n",
    "    max_new_tokens=512,\n",
    "    do_sample=False,\n",
    "    repetition_penalty=1.03,\n",
    "\n",
    ")\n",
    "\n",
    "llm = ChatHuggingFace(llm=model)\n",
    "\n",
    "\n",
    "prompt_template = ChatPromptTemplate.from_template(\n",
    "    \"{query}\"\n",
    ")\n",
    "\n",
    "chain = prompt_template | llm | parser\n",
    "res = chain.invoke(\n",
    "    {\"query\": \"tell a joke about a duck\"}\n",
    ")\n",
    "print(res)"
   ]
  },
  {
   "cell_type": "code",
   "execution_count": 5,
   "metadata": {},
   "outputs": [
    {
     "name": "stdout",
     "output_type": "stream",
     "text": [
      "Why did the rhino get kicked out of the movie theater?\n",
      "\n",
      "Because he was caught horn-in on the plot! (get it?)\n"
     ]
    }
   ],
   "source": [
    "res = chain.invoke(\n",
    "    {\"query\": \"tell a joke about a rhino\"}\n",
    ")\n",
    "print(res)"
   ]
  },
  {
   "cell_type": "markdown",
   "metadata": {},
   "source": [
    "## Langchain OpenAI"
   ]
  },
  {
   "cell_type": "code",
   "execution_count": 9,
   "metadata": {},
   "outputs": [
    {
     "name": "stdout",
     "output_type": "stream",
     "text": [
      "Why did the ant go to the doctor?\n",
      "\n",
      "Because it had a little \"ant-i-body\" problem!\n"
     ]
    }
   ],
   "source": [
    "import dotenv\n",
    "dotenv.load_dotenv()\n",
    "from langchain_openai import ChatOpenAI\n",
    "from langchain_core.prompts import ChatPromptTemplate\n",
    "from langchain_core.output_parsers import StrOutputParser\n",
    "\n",
    "parser = StrOutputParser()\n",
    "prompt_template = ChatPromptTemplate.from_template(\n",
    "    \"{query}\"\n",
    ")\n",
    "\n",
    "llm = ChatOpenAI(\n",
    "    base_url='https://api-inference.huggingface.co/v1/',\n",
    "    api_key=os.environ.get(\"HF_TOKEN\"),\n",
    "    model='meta-llama/Llama-3.2-3B-Instruct',\n",
    "    temperature=1.0\n",
    ")\n",
    "chain = prompt_template | llm | parser\n",
    "print(chain.invoke({\"query\": 'tell a joke about an ant'}))"
   ]
  },
  {
   "cell_type": "code",
   "execution_count": 10,
   "metadata": {},
   "outputs": [
    {
     "name": "stdout",
     "output_type": "stream",
     "text": [
      "Why did the crocodile go to the party?\n",
      "\n",
      "Because he was a snappy dresser!\n"
     ]
    }
   ],
   "source": [
    "print(chain.invoke({\"query\": 'tell a joke about a croc'}))"
   ]
  },
  {
   "cell_type": "code",
   "execution_count": null,
   "metadata": {},
   "outputs": [],
   "source": []
  }
 ],
 "metadata": {
  "kernelspec": {
   "display_name": "langchain",
   "language": "python",
   "name": "python3"
  },
  "language_info": {
   "codemirror_mode": {
    "name": "ipython",
    "version": 3
   },
   "file_extension": ".py",
   "mimetype": "text/x-python",
   "name": "python",
   "nbconvert_exporter": "python",
   "pygments_lexer": "ipython3",
   "version": "3.11.7"
  }
 },
 "nbformat": 4,
 "nbformat_minor": 2
}
