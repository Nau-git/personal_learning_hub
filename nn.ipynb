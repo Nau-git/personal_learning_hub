{
 "cells": [
  {
   "cell_type": "markdown",
   "metadata": {},
   "source": [
    "# Forward Propagation in a single layer\n",
    "\n",
    "Most machine learning frameworks like TF and PyTorch handle forward propagation under the hood, so it is not necessary to implement this by hand. However, knowing how this fundamentally works is important."
   ]
  },
  {
   "cell_type": "code",
   "execution_count": 1,
   "metadata": {},
   "outputs": [],
   "source": [
    "import numpy as np"
   ]
  },
  {
   "cell_type": "code",
   "execution_count": 3,
   "metadata": {},
   "outputs": [],
   "source": [
    "# define sigmoid function\n",
    "def sigmoid(x):\n",
    "    return 1 / (1 + np.exp(-x))"
   ]
  },
  {
   "cell_type": "code",
   "execution_count": 2,
   "metadata": {},
   "outputs": [],
   "source": [
    "# input \n",
    "x = np.array([200, 17])"
   ]
  },
  {
   "cell_type": "code",
   "execution_count": 5,
   "metadata": {},
   "outputs": [],
   "source": [
    "# neurons in the first hidden layer\n",
    "# suppose there is 3 neurons\n",
    "\n",
    "# first neuron\n",
    "w1_1 = np.array([1, 2]) # given starting weights\n",
    "b1_1 = np.array([-1])   # given starting bias\n",
    "z1_1 = np.dot(w1_1, x) + b1_1\n",
    "a1_1 = sigmoid(z1_1)\n",
    "\n",
    "# second neuron\n",
    "w1_2 = np.array([-3, 1])\n",
    "b1_2 = np.array([1])\n",
    "z1_2 = np.dot(w1_2, x) + b1_2\n",
    "a1_2 = sigmoid(z1_2)\n",
    "\n",
    "# third neuron\n",
    "w1_3 = np.array([5, -4])\n",
    "b1_3 = np.array([2])\n",
    "z1_3 = np.dot(w1_3, x) + b1_3\n",
    "a1_3 = sigmoid(z1_3)"
   ]
  },
  {
   "cell_type": "code",
   "execution_count": 6,
   "metadata": {},
   "outputs": [],
   "source": [
    "# resulting activation array\n",
    "a1 = np.array([a1_1, a1_2, a1_3])"
   ]
  },
  {
   "cell_type": "code",
   "execution_count": 7,
   "metadata": {},
   "outputs": [],
   "source": [
    "# the activation array is then fed into thee next layer (output layer)\n",
    "\n",
    "w2_1 = np.array([7, -8, 9])\n",
    "b2_1 = np.array([3])\n",
    "z2_1 = np.dot(w2_1, a1) + b2_1\n",
    "a2_1 = sigmoid(z2_1)"
   ]
  },
  {
   "cell_type": "code",
   "execution_count": 8,
   "metadata": {},
   "outputs": [
    {
     "data": {
      "text/plain": [
       "array([0.99999999])"
      ]
     },
     "execution_count": 8,
     "metadata": {},
     "output_type": "execute_result"
    }
   ],
   "source": [
    "a2_1"
   ]
  },
  {
   "cell_type": "code",
   "execution_count": null,
   "metadata": {},
   "outputs": [],
   "source": []
  }
 ],
 "metadata": {
  "kernelspec": {
   "display_name": "ml_env",
   "language": "python",
   "name": "python3"
  },
  "language_info": {
   "codemirror_mode": {
    "name": "ipython",
    "version": 3
   },
   "file_extension": ".py",
   "mimetype": "text/x-python",
   "name": "python",
   "nbconvert_exporter": "python",
   "pygments_lexer": "ipython3",
   "version": "3.11.3"
  }
 },
 "nbformat": 4,
 "nbformat_minor": 2
}
